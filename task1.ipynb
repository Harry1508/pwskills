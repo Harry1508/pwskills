{
 "cells": [
  {
   "cell_type": "code",
   "execution_count": 1,
   "id": "097b764b-ea74-4647-827a-4f908e0be730",
   "metadata": {},
   "outputs": [],
   "source": [
    "a = [\"hello\", [1,2,3], 3.14, (4,5,6)]"
   ]
  },
  {
   "cell_type": "code",
   "execution_count": 2,
   "id": "44f036db-319f-4382-86ea-b38bc750491e",
   "metadata": {},
   "outputs": [
    {
     "data": {
      "text/plain": [
       "['hello', [1, 2, 3], 3.14, (4, 5, 6)]"
      ]
     },
     "execution_count": 2,
     "metadata": {},
     "output_type": "execute_result"
    }
   ],
   "source": [
    "a"
   ]
  },
  {
   "cell_type": "code",
   "execution_count": 8,
   "id": "19372c37-f60a-4c8c-bba0-a702a859361d",
   "metadata": {},
   "outputs": [
    {
     "name": "stdout",
     "output_type": "stream",
     "text": [
      "['hello', [1, 2, 3], 3.14, (4, 5, 6)]\n"
     ]
    }
   ],
   "source": [
    "print (a)"
   ]
  },
  {
   "cell_type": "code",
   "execution_count": 16,
   "id": "f2f8e0c2-403d-4283-bf28-f0cdf1d6c6a4",
   "metadata": {},
   "outputs": [
    {
     "name": "stdout",
     "output_type": "stream",
     "text": [
      "<class 'str'>\n",
      "<class 'str'>\n",
      "<class 'list'>\n",
      "<class 'float'>\n"
     ]
    }
   ],
   "source": [
    "var1 = ' '\n",
    "var2 = '[ DS , ML , Python]'\n",
    "var3 = [ 'DS' , 'ML' , 'Python' ]\n",
    "var4 = 1.\n",
    "print(type(var1))\n",
    "print(type(var2))\n",
    "print(type(var3))\n",
    "print(type(var4))"
   ]
  },
  {
   "cell_type": "code",
   "execution_count": 19,
   "id": "e6a9e1b6-9786-4134-9765-b8d61b2f44c9",
   "metadata": {},
   "outputs": [
    {
     "name": "stdout",
     "output_type": "stream",
     "text": [
      "3.3333333333333335\n"
     ]
    }
   ],
   "source": [
    "a=10\n",
    "b=3\n",
    "c=a/b\n",
    "print(c)"
   ]
  },
  {
   "cell_type": "code",
   "execution_count": 20,
   "id": "dcfcd1eb-17c4-4397-bfb2-59e9cded2ba4",
   "metadata": {},
   "outputs": [
    {
     "name": "stdout",
     "output_type": "stream",
     "text": [
      "1\n"
     ]
    }
   ],
   "source": [
    "a=10\n",
    "b=3\n",
    "c=a%b\n",
    "print(c)"
   ]
  },
  {
   "cell_type": "code",
   "execution_count": 21,
   "id": "5523e20c-4e70-4cb8-8a15-d98d88e20423",
   "metadata": {},
   "outputs": [
    {
     "name": "stdout",
     "output_type": "stream",
     "text": [
      "3\n"
     ]
    }
   ],
   "source": [
    "a=10\n",
    "b=3\n",
    "c=a//b\n",
    "print(c)"
   ]
  },
  {
   "cell_type": "code",
   "execution_count": 22,
   "id": "a7094351-d7b6-488c-968a-7211e219acfc",
   "metadata": {},
   "outputs": [
    {
     "name": "stdout",
     "output_type": "stream",
     "text": [
      "1000\n"
     ]
    }
   ],
   "source": [
    "a=10\n",
    "b=3\n",
    "c=a**b\n",
    "print(c)"
   ]
  },
  {
   "cell_type": "code",
   "execution_count": 29,
   "id": "5d545319-c0f3-4946-818e-d7c04e4bfda1",
   "metadata": {},
   "outputs": [
    {
     "name": "stdout",
     "output_type": "stream",
     "text": [
      "42 <class 'int'>\n",
      "Hello <class 'str'>\n",
      "3.14 <class 'float'>\n",
      "True <class 'bool'>\n",
      "[1, 2, 3] <class 'list'>\n",
      "('apple', 'banana') <class 'tuple'>\n",
      "(5+2j) <class 'complex'>\n",
      "False <class 'bool'>\n"
     ]
    }
   ],
   "source": [
    "a= [42,\"Hello\", 3.14, True, [1,2,3],(\"apple\", \"banana\"), 5+2j, False]\n",
    "for element in a:\n",
    "    print(element,type(element))"
   ]
  },
  {
   "cell_type": "code",
   "execution_count": 4,
   "id": "750022b7-3d92-462f-909c-8297de645f95",
   "metadata": {},
   "outputs": [
    {
     "name": "stdout",
     "output_type": "stream",
     "text": [
      "Number of times a can be divided by b: 1\n"
     ]
    }
   ],
   "source": [
    "a=100\n",
    "b=4\n",
    "count=0\n",
    "while a%b==0:\n",
    "    a/=b\n",
    "    count +=1\n",
    "print(\"Number of times a can be divided by b:\",count)"
   ]
  },
  {
   "cell_type": "code",
   "execution_count": 6,
   "id": "daab7bb5-b5d2-49da-b5c2-c880ac31aee3",
   "metadata": {},
   "outputs": [
    {
     "name": "stdout",
     "output_type": "stream",
     "text": [
      "1 not divisible by 3\n",
      "2 not divisible by 3\n",
      "3 is divisible by 3\n",
      "4 not divisible by 3\n",
      "5 not divisible by 3\n",
      "6 is divisible by 3\n",
      "7 not divisible by 3\n",
      "8 not divisible by 3\n",
      "9 is divisible by 3\n",
      "10 not divisible by 3\n",
      "11 not divisible by 3\n",
      "12 is divisible by 3\n",
      "13 not divisible by 3\n",
      "14 not divisible by 3\n",
      "15 is divisible by 3\n",
      "16 not divisible by 3\n",
      "17 not divisible by 3\n",
      "18 is divisible by 3\n",
      "19 not divisible by 3\n",
      "20 not divisible by 3\n",
      "21 is divisible by 3\n",
      "22 not divisible by 3\n",
      "23 not divisible by 3\n",
      "24 is divisible by 3\n",
      "25 not divisible by 3\n"
     ]
    }
   ],
   "source": [
    "a= list(range(1,26))\n",
    "for element in a:\n",
    "    if element % 3 ==0:\n",
    "        print(element,\"is divisible by 3\")\n",
    "    else:\n",
    "        print(element,\"not divisible by 3\")"
   ]
  },
  {
   "cell_type": "code",
   "execution_count": 7,
   "id": "7b5b89d8-8712-4c51-8955-8c35f1b11496",
   "metadata": {},
   "outputs": [
    {
     "name": "stdout",
     "output_type": "stream",
     "text": [
      "(1, 2, 3)\n"
     ]
    }
   ],
   "source": [
    "a=(1,2,3)\n",
    "print(a)"
   ]
  },
  {
   "cell_type": "code",
   "execution_count": 23,
   "id": "a9da85b8-2d80-4d0a-9c1d-6441f167abf0",
   "metadata": {},
   "outputs": [
    {
     "ename": "TypeError",
     "evalue": "'tuple' object does not support item assignment",
     "output_type": "error",
     "traceback": [
      "\u001b[0;31m---------------------------------------------------------------------------\u001b[0m",
      "\u001b[0;31mTypeError\u001b[0m                                 Traceback (most recent call last)",
      "Cell \u001b[0;32mIn[23], line 2\u001b[0m\n\u001b[1;32m      1\u001b[0m a\u001b[38;5;241m=\u001b[39m(\u001b[38;5;241m1\u001b[39m,\u001b[38;5;241m2\u001b[39m,\u001b[38;5;241m3\u001b[39m)\n\u001b[0;32m----> 2\u001b[0m \u001b[43ma\u001b[49m\u001b[43m[\u001b[49m\u001b[38;5;241;43m0\u001b[39;49m\u001b[43m]\u001b[49m\u001b[38;5;241m=\u001b[39m\u001b[38;5;241m4\u001b[39m\n\u001b[1;32m      3\u001b[0m \u001b[38;5;28mprint\u001b[39m(a)\n\u001b[1;32m      5\u001b[0m \u001b[38;5;66;03m#Tuples are immutable,once value is assigned it can not be changed.\u001b[39;00m\n",
      "\u001b[0;31mTypeError\u001b[0m: 'tuple' object does not support item assignment"
     ]
    }
   ],
   "source": [
    "a=(1,2,3)\n",
    "a[0]=4\n",
    "print(a)\n",
    "\n",
    "#Tuples are immutable,once value is assigned it can not be changed.\n"
   ]
  },
  {
   "cell_type": "code",
   "execution_count": 22,
   "id": "30773c01-1256-433d-a66e-87180ea221c7",
   "metadata": {},
   "outputs": [
    {
     "name": "stdout",
     "output_type": "stream",
     "text": [
      "[4, 2, 3]\n"
     ]
    }
   ],
   "source": [
    "a=[1,2,3]\n",
    "a[0]=4\n",
    "print(a)\n",
    "\n",
    "# list is mutable, there values can be changed."
   ]
  },
  {
   "cell_type": "code",
   "execution_count": null,
   "id": "def342a8-ac72-4849-b96c-f504f866e506",
   "metadata": {},
   "outputs": [],
   "source": []
  }
 ],
 "metadata": {
  "kernelspec": {
   "display_name": "Python 3 (ipykernel)",
   "language": "python",
   "name": "python3"
  },
  "language_info": {
   "codemirror_mode": {
    "name": "ipython",
    "version": 3
   },
   "file_extension": ".py",
   "mimetype": "text/x-python",
   "name": "python",
   "nbconvert_exporter": "python",
   "pygments_lexer": "ipython3",
   "version": "3.10.8"
  }
 },
 "nbformat": 4,
 "nbformat_minor": 5
}
